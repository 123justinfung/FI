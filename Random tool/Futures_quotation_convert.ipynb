{
 "cells": [
  {
   "attachments": {},
   "cell_type": "markdown",
   "metadata": {},
   "source": [
    "# Bond/Futures quotation converter"
   ]
  },
  {
   "cell_type": "code",
   "execution_count": 1,
   "metadata": {},
   "outputs": [],
   "source": [
    "def quote_to_decimal(quote):\n",
    "    import re\n",
    "    # Split the quote using either '-' or '’'\n",
    "    integer_part, fraction_part = re.split(r\"[-']\", quote)\n",
    "\n",
    "    # Convert integer part to an integer\n",
    "    integer_part = int(integer_part)\n",
    "\n",
    "    # Extract the first two digits and the trailing digit(s) of the fraction part\n",
    "    if len(fraction_part) == 2:\n",
    "        first_two_digits = int(fraction_part)\n",
    "        decimal_price = integer_part + (first_two_digits / 32)\n",
    "    elif len(fraction_part) == 3:\n",
    "        first_two_digits = int(fraction_part[:-1])\n",
    "        trailing_digit = int(fraction_part[-1])\n",
    "\n",
    "        # Apply the pricing rule based on the trailing digit\n",
    "        if trailing_digit == 0:\n",
    "            decimal_price = integer_part + (first_two_digits / 32)\n",
    "        elif trailing_digit == 2:\n",
    "            decimal_price = integer_part + (first_two_digits / 32) + (0.25 * (1 / 32))\n",
    "        elif trailing_digit == 5 or trailing_digit == '+':\n",
    "            decimal_price = integer_part + (first_two_digits / 32) + (0.5 * (1 / 32))\n",
    "        elif trailing_digit == 6 or trailing_digit == 7:\n",
    "            decimal_price = integer_part + (first_two_digits / 32) + (0.75 * (1 / 32))\n",
    "        else:\n",
    "            raise ValueError(\"Invalid trailing digit\")\n",
    "    else:\n",
    "        raise ValueError(\"Invalid fraction part length\")\n",
    "\n",
    "    return decimal_price"
   ]
  },
  {
   "cell_type": "code",
   "execution_count": 2,
   "metadata": {},
   "outputs": [
    {
     "data": {
      "text/plain": [
       "112.484375"
      ]
     },
     "execution_count": 2,
     "metadata": {},
     "output_type": "execute_result"
    }
   ],
   "source": [
    "quote_to_decimal(\"112'155\")"
   ]
  }
 ],
 "metadata": {
  "kernelspec": {
   "display_name": "Python 3",
   "language": "python",
   "name": "python3"
  },
  "language_info": {
   "codemirror_mode": {
    "name": "ipython",
    "version": 3
   },
   "file_extension": ".py",
   "mimetype": "text/x-python",
   "name": "python",
   "nbconvert_exporter": "python",
   "pygments_lexer": "ipython3",
   "version": "3.11.3"
  },
  "orig_nbformat": 4
 },
 "nbformat": 4,
 "nbformat_minor": 2
}
