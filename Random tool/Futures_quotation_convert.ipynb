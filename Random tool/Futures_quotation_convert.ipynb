{
 "cells": [
  {
   "attachments": {},
   "cell_type": "markdown",
   "metadata": {},
   "source": [
    "# Bond/Futures quotation converter\n"
   ]
  },
  {
   "cell_type": "code",
   "execution_count": 2,
   "metadata": {},
   "outputs": [],
   "source": [
    "def quotation(quote, conversion_type):\n",
    "    import re\n",
    "\n",
    "    # Convert futures quotes to normal quotes    \n",
    "    if conversion_type == 0:  \n",
    "        integer_part, fraction_part = re.split(r\"[-']\", quote)\n",
    "        integer_part = int(integer_part)\n",
    "\n",
    "        # Extract the first two digits and the trailing digit(s) of the fraction part\n",
    "        if len(fraction_part) == 2:\n",
    "            first_two_digits = int(fraction_part)\n",
    "            decimal_price = integer_part + (first_two_digits / 32)\n",
    "        elif len(fraction_part) == 3:\n",
    "            first_two_digits = int(fraction_part[:-1])\n",
    "            trailing_digit = fraction_part[-1]  # Modify this line\n",
    "\n",
    "            # Apply the pricing rule based on the trailing digit\n",
    "            if trailing_digit == '0':\n",
    "                decimal_price = integer_part + (first_two_digits / 32)\n",
    "            elif trailing_digit == '2':\n",
    "                decimal_price = integer_part + (first_two_digits / 32) + (0.25 * (1 / 32))\n",
    "            elif trailing_digit == '5' or trailing_digit == '+':\n",
    "                decimal_price = integer_part + (first_two_digits / 32) + (0.5 * (1 / 32))\n",
    "            elif trailing_digit == '6' or trailing_digit == '7':\n",
    "                decimal_price = integer_part + (first_two_digits / 32) + (0.75 * (1 / 32))\n",
    "            else:\n",
    "                raise ValueError(\"Invalid trailing digit\")\n",
    "        else:\n",
    "            raise ValueError(\"Invalid fraction part length\")\n",
    "\n",
    "        return decimal_price\n",
    "    \n",
    "    # Convert normal quotes to future quotes\n",
    "    elif conversion_type == 1:  \n",
    "        decimal_price = float(quote)\n",
    "        integer_part = int(decimal_price)\n",
    "        fractional_part = decimal_price - integer_part\n",
    "\n",
    "        # Convert the fractional part to 1/32nds\n",
    "        fractional_part_32nds = round(fractional_part * 32)\n",
    "\n",
    "        # Check if the fractional part is one of the special cases (0.25, 0.5, or 0.75)\n",
    "        if fractional_part_32nds in [8, 16, 24]:\n",
    "            trailing_digit = ['2', '5', '7'][fractional_part_32nds // 8 - 1]\n",
    "            two_digits_part = fractional_part_32nds // 2\n",
    "            futures_quote = f\"{integer_part}-{two_digits_part}{trailing_digit}\"\n",
    "        else:\n",
    "            futures_quote = f\"{integer_part}-{fractional_part_32nds:02}\"\n",
    "\n",
    "        return futures_quote\n",
    "\n",
    "    else:\n",
    "        raise ValueError(\"Invalid conversion type. Use 0 for quote to decimal or 1 for decimal to quote.\")"
   ]
  },
  {
   "cell_type": "code",
   "execution_count": 3,
   "metadata": {},
   "outputs": [
    {
     "name": "stdout",
     "output_type": "stream",
     "text": [
      "Decimal price of 105-16+ = 105.515625\n",
      "Futures price of 105.515625 = 105-85\n"
     ]
    }
   ],
   "source": [
    "# Convert quote to decimal\n",
    "quote = \"105-16+\"\n",
    "decimal_price = quotation(quote, 0)\n",
    "print(f\"Decimal price of {quote} = {decimal_price}\")\n",
    "\n",
    "# Convert decimal to quote\n",
    "decimal_price = 105.515625\n",
    "quote = quotation(decimal_price, 1)\n",
    "print(f\"Futures price of {decimal_price} = {quote}\")"
   ]
  }
 ],
 "metadata": {
  "kernelspec": {
   "display_name": "Python 3",
   "language": "python",
   "name": "python3"
  },
  "language_info": {
   "codemirror_mode": {
    "name": "ipython",
    "version": 3
   },
   "file_extension": ".py",
   "mimetype": "text/x-python",
   "name": "python",
   "nbconvert_exporter": "python",
   "pygments_lexer": "ipython3",
   "version": "3.11.3"
  },
  "orig_nbformat": 4
 },
 "nbformat": 4,
 "nbformat_minor": 2
}
